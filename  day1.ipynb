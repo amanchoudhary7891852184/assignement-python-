{
 "cells": [
  {
   "cell_type": "code",
   "execution_count": null,
   "id": "5d3f3b6d-2694-405a-b191-7665492dd78f",
   "metadata": {},
   "outputs": [],
   "source": [
    "Write a Python program to do arithmetical operations addition and division.\n"
   ]
  },
  {
   "cell_type": "code",
   "execution_count": 1,
   "id": "867235a5-163f-4f24-8d58-243433dfda0c",
   "metadata": {},
   "outputs": [
    {
     "name": "stdin",
     "output_type": "stream",
     "text": [
      "enter your number : 1\n",
      "enter your second number : 2\n"
     ]
    },
    {
     "name": "stdout",
     "output_type": "stream",
     "text": [
      "sum_of two number is 1+2 and total is 3\n"
     ]
    }
   ],
   "source": [
    "a=int(input(\"enter your number :\"))\n",
    "b=int(input(\"enter your second number :\"))\n",
    "sum=a+b\n",
    "print(f\"sum_of two number is {a}+{b} and total is {sum}\")"
   ]
  },
  {
   "cell_type": "code",
   "execution_count": null,
   "id": "e4d73548-c754-47f5-afc6-5fb2dfaaebe6",
   "metadata": {},
   "outputs": [],
   "source": [
    "Write a Python program to find the area of a triangle.\n"
   ]
  },
  {
   "cell_type": "code",
   "execution_count": 5,
   "id": "6312f5c0-ad91-4380-9720-a6a7873fc4b7",
   "metadata": {},
   "outputs": [
    {
     "name": "stdin",
     "output_type": "stream",
     "text": [
      "enter your base: 10\n",
      "enter your height : 15\n"
     ]
    },
    {
     "name": "stdout",
     "output_type": "stream",
     "text": [
      "75.0\n"
     ]
    }
   ],
   "source": [
    "base=int(input(\"enter your base:\"))\n",
    "height=int(input(\"enter your height :\"))\n",
    "area=base*height*0.5\n",
    "print(area)"
   ]
  },
  {
   "cell_type": "code",
   "execution_count": null,
   "id": "fae8ea4a-9998-4dcd-87f1-563b569444e8",
   "metadata": {},
   "outputs": [],
   "source": [
    "Write a Python program to swap two variables.\n"
   ]
  },
  {
   "cell_type": "code",
   "execution_count": 9,
   "id": "6524af74-f307-4814-90d0-eaf2975561db",
   "metadata": {},
   "outputs": [
    {
     "name": "stdin",
     "output_type": "stream",
     "text": [
      "enter your the value of a: 4\n",
      "enter your the value of b: 2\n"
     ]
    },
    {
     "name": "stdout",
     "output_type": "stream",
     "text": [
      "swap case of both numbers  a=2 and b=4\n"
     ]
    }
   ],
   "source": [
    "a=int(input(\"enter your the value of a:\"))\n",
    "b=int(input(\"enter your the value of b:\"))\n",
    "temp=a\n",
    "a=b\n",
    "b=temp\n",
    "print(f\"swap case of both numbers  a={a} and b={b}\")"
   ]
  },
  {
   "cell_type": "code",
   "execution_count": null,
   "id": "1935c9b9-8762-4785-868c-512cbc3aea64",
   "metadata": {},
   "outputs": [],
   "source": [
    "Write a Python program to convert kilometers to miles.\n"
   ]
  },
  {
   "cell_type": "code",
   "execution_count": 12,
   "id": "43cb1ed8-1caa-4697-b6a1-7b06efc24d28",
   "metadata": {},
   "outputs": [
    {
     "name": "stdin",
     "output_type": "stream",
     "text": [
      "enter your number : 100\n"
     ]
    },
    {
     "name": "stdout",
     "output_type": "stream",
     "text": [
      "62.137100000000004\n"
     ]
    }
   ],
   "source": [
    "km=int(input(\"enter your number :\"))\n",
    "convert= 0.621371\n",
    "mile=km*convert\n",
    "print(mile)"
   ]
  },
  {
   "cell_type": "code",
   "execution_count": null,
   "id": "4415574f-61ab-4e20-911b-a884be870a9b",
   "metadata": {},
   "outputs": [],
   "source": [
    "Write a Python program to convert Celsius to Fahrenheit.\n"
   ]
  },
  {
   "cell_type": "code",
   "execution_count": 15,
   "id": "9429ac85-9886-46a1-9e81-59460aa03937",
   "metadata": {},
   "outputs": [
    {
     "name": "stdin",
     "output_type": "stream",
     "text": [
      "enter your celcue: 37\n"
     ]
    },
    {
     "name": "stdout",
     "output_type": "stream",
     "text": [
      "celcue is 37 and fahrenhit 98.6\n"
     ]
    }
   ],
   "source": [
    "celcue=int(input(\"enter your celcue:\"))\n",
    "fahrenheit = (celcue * 9/5) + 32\n",
    "print(f\"celcue is {celcue} and fahrenhit {fahrenheit}\")"
   ]
  },
  {
   "cell_type": "code",
   "execution_count": null,
   "id": "6c677a78-d3ab-4687-9755-73c4df30f5c2",
   "metadata": {},
   "outputs": [],
   "source": [
    "Write a Python program to swap two variables without temp variable.\n"
   ]
  },
  {
   "cell_type": "code",
   "execution_count": 17,
   "id": "5f91a102-930b-4524-bd86-87efe3b5992f",
   "metadata": {},
   "outputs": [
    {
     "name": "stdin",
     "output_type": "stream",
     "text": [
      "enter the value of a: 4\n",
      "enter the value of b: 1\n"
     ]
    },
    {
     "name": "stdout",
     "output_type": "stream",
     "text": [
      "swap case of both numbers  a=1 and b=4\n"
     ]
    }
   ],
   "source": [
    "a=int(input(\"enter the value of a:\"))\n",
    "b=int(input(\"enter the value of b:\"))\n",
    "a,b=b,a\n",
    "print(f\"swap case of both numbers  a={a} and b={b}\")"
   ]
  },
  {
   "cell_type": "code",
   "execution_count": null,
   "id": "e1bae15b-b563-47ac-899c-3edb0581019b",
   "metadata": {},
   "outputs": [],
   "source": [
    "Write a Python Program to Check if a Number is Positive, Negative or Zero.\n"
   ]
  },
  {
   "cell_type": "code",
   "execution_count": 25,
   "id": "14064e3f-5e81-42a5-a704-c659cfeb89bb",
   "metadata": {},
   "outputs": [
    {
     "name": "stdin",
     "output_type": "stream",
     "text": [
      "enter the value of n: -12\n"
     ]
    },
    {
     "name": "stdout",
     "output_type": "stream",
     "text": [
      "negative -12\n"
     ]
    }
   ],
   "source": [
    "n=int(input(\"enter the value of n:\"))\n",
    "if(n>0):\n",
    "    print(\"number is positive \",n)\n",
    "elif(n==0):\n",
    "    print(\"number is zero\",n)\n",
    "else:\n",
    "    print(\"negative\",n)"
   ]
  },
  {
   "cell_type": "code",
   "execution_count": null,
   "id": "cde34227-bd48-4f32-ad91-552864a46a0a",
   "metadata": {},
   "outputs": [],
   "source": [
    "Write a Python Program to Check if a Number is Odd or Even.\n"
   ]
  },
  {
   "cell_type": "code",
   "execution_count": 29,
   "id": "dcea5348-6063-4224-810d-00038ecb94de",
   "metadata": {},
   "outputs": [
    {
     "name": "stdin",
     "output_type": "stream",
     "text": [
      "enter the value of n: 7\n"
     ]
    },
    {
     "name": "stdout",
     "output_type": "stream",
     "text": [
      "odd 7\n"
     ]
    }
   ],
   "source": [
    "n=int(input(\"enter the value of n:\"))\n",
    "if (n%2==0):\n",
    "    print(\"even\",n)\n",
    "else:\n",
    "    print(\"odd\",n)"
   ]
  },
  {
   "cell_type": "code",
   "execution_count": null,
   "id": "a3b3c4ea-9434-437b-8c20-fe62a214f266",
   "metadata": {},
   "outputs": [],
   "source": [
    "Write a Python Program to Check Leap Year.\n"
   ]
  },
  {
   "cell_type": "code",
   "execution_count": 41,
   "id": "27b03113-8f8f-4d2a-ae55-a8005de86bbe",
   "metadata": {},
   "outputs": [
    {
     "name": "stdin",
     "output_type": "stream",
     "text": [
      "enter the value of y 2024\n"
     ]
    },
    {
     "name": "stdout",
     "output_type": "stream",
     "text": [
      "not \n"
     ]
    }
   ],
   "source": [
    "y=int(input(\"enter the value of y\"))\n",
    "if(y%400==0 and y%100 ==0):\n",
    "    print(\"is a leep year :\")\n",
    "elif(y%4==0 and  y%100 !=0):\n",
    "    print(\"not \")"
   ]
  },
  {
   "cell_type": "code",
   "execution_count": null,
   "id": "7b12f56c-7a6c-4bc9-90f6-05d109ec0ecd",
   "metadata": {},
   "outputs": [],
   "source": [
    "Write a Python Program to Check Prime Number.\n"
   ]
  },
  {
   "cell_type": "code",
   "execution_count": 45,
   "id": "88ee8bab-0410-4119-8e85-2f64357c5625",
   "metadata": {},
   "outputs": [
    {
     "name": "stdin",
     "output_type": "stream",
     "text": [
      "enter your number: 3\n"
     ]
    },
    {
     "name": "stdout",
     "output_type": "stream",
     "text": [
      "prime 3\n"
     ]
    }
   ],
   "source": [
    "n=int(input(\"enter your number:\"))\n",
    "indicator=0\n",
    "for i in range(2,n):\n",
    "    if(n%i==0 ):\n",
    "        print(i,\" not prime\")\n",
    "        indicator=1\n",
    "        break\n",
    "if(indicator==0):\n",
    "        print(\"prime\",n)"
   ]
  },
  {
   "cell_type": "code",
   "execution_count": null,
   "id": "5a28daf1-94c1-4710-9a37-a7e6201a8606",
   "metadata": {},
   "outputs": [],
   "source": [
    "Write a Python Program to Display the multiplication Table."
   ]
  },
  {
   "cell_type": "code",
   "execution_count": 53,
   "id": "11664f16-954e-4b7c-9ca1-403291a5f1f5",
   "metadata": {},
   "outputs": [
    {
     "name": "stdin",
     "output_type": "stream",
     "text": [
      "enter your number : 5\n"
     ]
    },
    {
     "name": "stdout",
     "output_type": "stream",
     "text": [
      "multi of 1*5=5\n",
      "multi of 2*5=10\n",
      "multi of 3*5=15\n",
      "multi of 4*5=20\n",
      "multi of 5*5=25\n",
      "multi of 6*5=30\n",
      "multi of 7*5=35\n",
      "multi of 8*5=40\n",
      "multi of 9*5=45\n",
      "multi of 10*5=50\n"
     ]
    }
   ],
   "source": [
    "n=int(input(\"enter your number :\"))\n",
    "for i in range(1,11):\n",
    "    print(f\"multi of {i}*{n}={n*i}\")"
   ]
  },
  {
   "cell_type": "code",
   "execution_count": null,
   "id": "2b138112-b85d-4f3f-9608-1c0f0e36c4f6",
   "metadata": {},
   "outputs": [],
   "source": [
    "Write a Python Program to Find the Factorial of a Number.\n"
   ]
  },
  {
   "cell_type": "code",
   "execution_count": null,
   "id": "ce7ae43e-587e-45d8-9440-2324ba80a872",
   "metadata": {},
   "outputs": [],
   "source": [
    "fact=1\n",
    "for i in range(1,9):\n",
    "    fact=fact*i\n",
    "    print(fact)"
   ]
  },
  {
   "cell_type": "code",
   "execution_count": null,
   "id": "e531682e-227d-4b55-82f1-1fa7bae9420d",
   "metadata": {},
   "outputs": [],
   "source": [
    "Write a Python Program to Print the Fibonacci sequence.\n",
    " "
   ]
  },
  {
   "cell_type": "code",
   "execution_count": 117,
   "id": "99868209-93e2-4020-bd72-37467dc33c01",
   "metadata": {},
   "outputs": [
    {
     "name": "stdin",
     "output_type": "stream",
     "text": [
      "enter your number : 10\n"
     ]
    },
    {
     "name": "stdout",
     "output_type": "stream",
     "text": [
      "0 11 2 3 5 8 13 21 34 "
     ]
    }
   ],
   "source": [
    "n=int(input(\"enter your number :\"))\n",
    "n1=0\n",
    "n2=1\n",
    "n3 = 0\n",
    "print(n1,n2,end = '')\n",
    "for i in range(2,n):\n",
    "    n3 = n1 + n2\n",
    "    print(n3,end = ' ')\n",
    "    n1=n2\n",
    "    n2=n3\n",
    "\n"
   ]
  },
  {
   "cell_type": "code",
   "execution_count": 15,
   "id": "6785a91e-c967-4dd6-88d3-3cddc63b0ee0",
   "metadata": {},
   "outputs": [
    {
     "name": "stdin",
     "output_type": "stream",
     "text": [
      "enter your number : 10\n"
     ]
    },
    {
     "name": "stdout",
     "output_type": "stream",
     "text": [
      "0 1 1 3 5 7 9 11 13 15 "
     ]
    }
   ],
   "source": [
    "n=int(input(\"enter your number :\"))\n",
    "n1=0\n",
    "n2=1\n",
    "\n",
    "print(n1,n2,end = ' ')\n",
    "n3 = 2\n",
    "\n",
    "while n3<n:\n",
    "    c = n1 + n2\n",
    "    print(c, end = ' ')\n",
    "    n1, n2 = n2, n3\n",
    "    \n",
    "    n3 += 1"
   ]
  },
  {
   "cell_type": "code",
   "execution_count": 195,
   "id": "8073a67d-1d49-4268-bbaa-7662f1131843",
   "metadata": {},
   "outputs": [
    {
     "name": "stdin",
     "output_type": "stream",
     "text": [
      "enter your number 10\n"
     ]
    },
    {
     "name": "stdout",
     "output_type": "stream",
     "text": [
      "0 1 1 2 3 5 8 13 21 34 "
     ]
    }
   ],
   "source": [
    "n = int(input(\"enter your number\"))\n",
    "a=0\n",
    "b=1\n",
    "print (a,b,end = ' ') \n",
    "count = 2\n",
    "\n",
    "while count< n:\n",
    "    c = a + b\n",
    "    print(c, end = ' ') \n",
    "    a, b = b, c\n",
    "    count += 1"
   ]
  },
  {
   "cell_type": "code",
   "execution_count": null,
   "id": "4b63ed2e-1bac-44a2-b3c0-f6159f3b698f",
   "metadata": {},
   "outputs": [],
   "source": []
  }
 ],
 "metadata": {
  "kernelspec": {
   "display_name": "Python 3 (ipykernel)",
   "language": "python",
   "name": "python3"
  },
  "language_info": {
   "codemirror_mode": {
    "name": "ipython",
    "version": 3
   },
   "file_extension": ".py",
   "mimetype": "text/x-python",
   "name": "python",
   "nbconvert_exporter": "python",
   "pygments_lexer": "ipython3",
   "version": "3.12.3"
  }
 },
 "nbformat": 4,
 "nbformat_minor": 5
}
