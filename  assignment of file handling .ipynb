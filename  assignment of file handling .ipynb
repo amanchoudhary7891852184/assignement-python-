{
 "cells": [
  {
   "cell_type": "code",
   "execution_count": null,
   "id": "beb1fa3f-7ace-42cd-a004-731d4e1a87c1",
   "metadata": {},
   "outputs": [],
   "source": []
  },
  {
   "cell_type": "code",
   "execution_count": 2,
   "id": "55b990b7-bd9e-4cf1-bea4-fe0a18e5dccb",
   "metadata": {},
   "outputs": [
    {
     "name": "stdout",
     "output_type": "stream",
     "text": [
      "Requirement already satisfied: pywhatkit in c:\\users\\choud\\anaconda3\\lib\\site-packages (5.4)\n",
      "Requirement already satisfied: Pillow in c:\\users\\choud\\anaconda3\\lib\\site-packages (from pywhatkit) (10.3.0)\n",
      "Requirement already satisfied: pyautogui in c:\\users\\choud\\anaconda3\\lib\\site-packages (from pywhatkit) (0.9.54)\n",
      "Requirement already satisfied: requests in c:\\users\\choud\\anaconda3\\lib\\site-packages (from pywhatkit) (2.32.2)\n",
      "Requirement already satisfied: wikipedia in c:\\users\\choud\\anaconda3\\lib\\site-packages (from pywhatkit) (1.4.0)\n",
      "Requirement already satisfied: Flask in c:\\users\\choud\\appdata\\roaming\\python\\python312\\site-packages (from pywhatkit) (3.0.0)\n",
      "Requirement already satisfied: Werkzeug>=3.0.0 in c:\\users\\choud\\appdata\\roaming\\python\\python312\\site-packages (from Flask->pywhatkit) (3.0.1)\n",
      "Requirement already satisfied: Jinja2>=3.1.2 in c:\\users\\choud\\appdata\\roaming\\python\\python312\\site-packages (from Flask->pywhatkit) (3.1.2)\n",
      "Requirement already satisfied: itsdangerous>=2.1.2 in c:\\users\\choud\\appdata\\roaming\\python\\python312\\site-packages (from Flask->pywhatkit) (2.1.2)\n",
      "Requirement already satisfied: click>=8.1.3 in c:\\users\\choud\\appdata\\roaming\\python\\python312\\site-packages (from Flask->pywhatkit) (8.1.7)\n",
      "Requirement already satisfied: blinker>=1.6.2 in c:\\users\\choud\\appdata\\roaming\\python\\python312\\site-packages (from Flask->pywhatkit) (1.6.3)\n",
      "Requirement already satisfied: pymsgbox in c:\\users\\choud\\anaconda3\\lib\\site-packages (from pyautogui->pywhatkit) (1.0.9)\n",
      "Requirement already satisfied: pytweening>=1.0.4 in c:\\users\\choud\\anaconda3\\lib\\site-packages (from pyautogui->pywhatkit) (1.2.0)\n",
      "Requirement already satisfied: pyscreeze>=0.1.21 in c:\\users\\choud\\anaconda3\\lib\\site-packages (from pyautogui->pywhatkit) (1.0.1)\n",
      "Requirement already satisfied: pygetwindow>=0.0.5 in c:\\users\\choud\\anaconda3\\lib\\site-packages (from pyautogui->pywhatkit) (0.0.9)\n",
      "Requirement already satisfied: mouseinfo in c:\\users\\choud\\anaconda3\\lib\\site-packages (from pyautogui->pywhatkit) (0.1.3)\n",
      "Requirement already satisfied: charset-normalizer<4,>=2 in c:\\users\\choud\\anaconda3\\lib\\site-packages (from requests->pywhatkit) (2.0.4)\n",
      "Requirement already satisfied: idna<4,>=2.5 in c:\\users\\choud\\anaconda3\\lib\\site-packages (from requests->pywhatkit) (3.7)\n",
      "Requirement already satisfied: urllib3<3,>=1.21.1 in c:\\users\\choud\\anaconda3\\lib\\site-packages (from requests->pywhatkit) (2.2.2)\n",
      "Requirement already satisfied: certifi>=2017.4.17 in c:\\users\\choud\\anaconda3\\lib\\site-packages (from requests->pywhatkit) (2024.8.30)\n",
      "Requirement already satisfied: beautifulsoup4 in c:\\users\\choud\\anaconda3\\lib\\site-packages (from wikipedia->pywhatkit) (4.12.3)\n",
      "Requirement already satisfied: colorama in c:\\users\\choud\\appdata\\roaming\\python\\python312\\site-packages (from click>=8.1.3->Flask->pywhatkit) (0.4.6)\n",
      "Requirement already satisfied: MarkupSafe>=2.0 in c:\\users\\choud\\appdata\\roaming\\python\\python312\\site-packages (from Jinja2>=3.1.2->Flask->pywhatkit) (2.1.3)\n",
      "Requirement already satisfied: pyrect in c:\\users\\choud\\anaconda3\\lib\\site-packages (from pygetwindow>=0.0.5->pyautogui->pywhatkit) (0.2.0)\n",
      "Requirement already satisfied: soupsieve>1.2 in c:\\users\\choud\\anaconda3\\lib\\site-packages (from beautifulsoup4->wikipedia->pywhatkit) (2.5)\n",
      "Requirement already satisfied: pyperclip in c:\\users\\choud\\anaconda3\\lib\\site-packages (from mouseinfo->pyautogui->pywhatkit) (1.9.0)\n",
      "Note: you may need to restart the kernel to use updated packages.\n"
     ]
    }
   ],
   "source": [
    "pip install pywhatkit"
   ]
  },
  {
   "cell_type": "code",
   "execution_count": 9,
   "id": "b80a482f-3af4-482c-8a64-91e5aed88b55",
   "metadata": {},
   "outputs": [
    {
     "name": "stdout",
     "output_type": "stream",
     "text": [
      "Choose an option:\n",
      "1 - Show current time\n",
      "2 - Create a random folder on Desktop\n",
      "3 - Close the program\n",
      "4 - Send 'Hi' on WhatsApp\n",
      "5 - Shutdown your system\n"
     ]
    },
    {
     "name": "stdin",
     "output_type": "stream",
     "text": [
      "Enter your choice:  4\n"
     ]
    },
    {
     "name": "stdout",
     "output_type": "stream",
     "text": [
      "Sending WhatsApp message to +917891852184...\n",
      "In 102 Seconds WhatsApp will open and after 15 Seconds Message will be Delivered!\n",
      "Message scheduled. Keep browser open until sent.\n"
     ]
    }
   ],
   "source": [
    "import datetime\n",
    "import os\n",
    "import random\n",
    "import string\n",
    "import sys\n",
    "import pywhatkit\n",
    "import platform\n",
    "\n",
    "def show_current_time():\n",
    "    current_time = datetime.datetime.now().strftime(\"%H:%M:%S\")\n",
    "    print(\"Current system time is:\", current_time)\n",
    "\n",
    "def create_random_folder():\n",
    "    desktop_path = os.path.join(os.path.expanduser(\"~\"), \"Desktop\")\n",
    "    random_str = ''.join(random.choices(string.ascii_uppercase + string.digits, k=5))\n",
    "    folder_name = f\"Folder_{random_str}\"\n",
    "    folder_path = os.path.join(desktop_path, folder_name)\n",
    "\n",
    "    try:\n",
    "        os.makedirs(folder_path)\n",
    "        print(f\"Random folder created on desktop: {folder_path}\")\n",
    "    except Exception as e:\n",
    "        print(\"Error creating folder:\", e)\n",
    "\n",
    "def close_program():\n",
    "    print(\"Closing the program...\")\n",
    "    sys.exit()\n",
    "\n",
    "def send_whatsapp_message():\n",
    "    phone_number = \"+917891852184\"  # Replace with your friend's number\n",
    "    message = \"Hi\"\n",
    "    now = datetime.datetime.now()\n",
    "    hour = now.hour\n",
    "    minute = now.minute + 2\n",
    "\n",
    "    print(f\"Sending WhatsApp message to {phone_number}...\")\n",
    "    pywhatkit.sendwhatmsg(phone_number, message, hour, minute)\n",
    "    print(\"Message scheduled. Keep browser open until sent.\")\n",
    "    \n",
    "\n",
    "def shutdown_system():\n",
    "    confirm = input(\"Are you sure you want to shut down the system? (yes/no): \").strip().lower()\n",
    "    if confirm == \"yes\":\n",
    "        print(\"Shutting down your system...\")\n",
    "        if platform.system() == \"Windows\":\n",
    "            os.system(\"shutdown /s /t 1\")\n",
    "        \n",
    "        else:\n",
    "            print(\"Unsupported OS for shutdown command.\")\n",
    "    else:\n",
    "        print(\"Shutdown canceled.\")\n",
    "\n",
    "# Main menu\n",
    "print(\"Choose an option:\")\n",
    "print(\"1 - Show current time\")\n",
    "print(\"2 - Create a random folder on Desktop\")\n",
    "print(\"3 - Close the program\")\n",
    "print(\"4 - Send 'Hi' on WhatsApp\")\n",
    "print(\"5 - Shutdown your system\")\n",
    "\n",
    "choice = input(\"Enter your choice: \")\n",
    "\n",
    "if choice == '1':\n",
    "    show_current_time()\n",
    "elif choice == '2':\n",
    "    create_random_folder()\n",
    "elif choice == '3':\n",
    "    close_program()\n",
    "elif choice == '4':\n",
    "    send_whatsapp_message()\n",
    "elif choice == '5':\n",
    "    shutdown_system()\n",
    "else:\n",
    "    print(\"Invalid input. Please enter a valid option.\")"
   ]
  },
  {
   "cell_type": "code",
   "execution_count": null,
   "id": "77220725-deec-4d3f-9483-e7688ae85273",
   "metadata": {},
   "outputs": [],
   "source": [
    " "
   ]
  },
  {
   "cell_type": "code",
   "execution_count": null,
   "id": "a55f0f2c-3cc6-4ae0-b70d-d5dd2217adfe",
   "metadata": {},
   "outputs": [],
   "source": []
  },
  {
   "cell_type": "code",
   "execution_count": null,
   "id": "b4b45494-414f-4cad-b1fd-4607af59b1e3",
   "metadata": {},
   "outputs": [],
   "source": []
  }
 ],
 "metadata": {
  "kernelspec": {
   "display_name": "Python 3 (ipykernel)",
   "language": "python",
   "name": "python3"
  },
  "language_info": {
   "codemirror_mode": {
    "name": "ipython",
    "version": 3
   },
   "file_extension": ".py",
   "mimetype": "text/x-python",
   "name": "python",
   "nbconvert_exporter": "python",
   "pygments_lexer": "ipython3",
   "version": "3.12.3"
  }
 },
 "nbformat": 4,
 "nbformat_minor": 5
}
