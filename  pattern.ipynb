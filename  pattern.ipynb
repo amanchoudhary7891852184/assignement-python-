{
 "cells": [
  {
   "cell_type": "code",
   "execution_count": null,
   "id": "38ad0dff-4280-4412-9431-28caa02fb085",
   "metadata": {},
   "outputs": [],
   "source": [
    " "
   ]
  },
  {
   "cell_type": "code",
   "execution_count": 252,
   "id": "31a17693-c7fd-4c03-9f81-6137b2ac29dc",
   "metadata": {},
   "outputs": [
    {
     "name": "stdout",
     "output_type": "stream",
     "text": [
      "****\n",
      " ****\n",
      "  ****\n",
      "   ****\n"
     ]
    }
   ],
   "source": [
    "num=5\n",
    "for i in range(5,1,-1):\n",
    "    for j in range(i,5):\n",
    "        print(\"\",end=\" \")\n",
    "    for k in range(1,5):\n",
    "        print(\"*\",end=\"\")\n",
    "    print( )"
   ]
  },
  {
   "cell_type": "code",
   "execution_count": 1,
   "id": "a1137318-0b0a-44ca-93f3-0d43b5c07e44",
   "metadata": {},
   "outputs": [
    {
     "name": "stdout",
     "output_type": "stream",
     "text": [
      "******\n",
      "*    *\n",
      "*    *\n",
      "******\n"
     ]
    }
   ],
   "source": [
    "num=4\n",
    "for i in range (1,5):\n",
    "    for j in range(1,num+3):\n",
    "        if i==1 or j==1 or j==num+2 or i==num:\n",
    "            print(\"*\",end=\"\")\n",
    "        else:\n",
    "            print(\" \",end=\"\")\n",
    "    print()"
   ]
  },
  {
   "cell_type": "code",
   "execution_count": 3,
   "id": "575361a4-2f88-4d6a-b5b0-ab254728b1fb",
   "metadata": {},
   "outputs": [
    {
     "name": "stdout",
     "output_type": "stream",
     "text": [
      "A  \n",
      "A B  \n",
      "A B C  \n",
      "A B C D  \n",
      "A B C D E  \n"
     ]
    }
   ],
   "source": [
    "for i in range(5,0,-1):\n",
    "    num=65\n",
    "    for j in range(i,6):\n",
    "        print(chr(num),end=\" \")\n",
    "        num+=1\n",
    "    print(\" \")"
   ]
  },
  {
   "cell_type": "code",
   "execution_count": 9,
   "id": "9aa07dc8-86d8-488d-bfbb-75e0114af451",
   "metadata": {},
   "outputs": [
    {
     "name": "stdout",
     "output_type": "stream",
     "text": [
      "A  \n",
      "A B  \n",
      "A B C  \n",
      "A B C D  \n",
      "A B C D E  \n"
     ]
    }
   ],
   "source": [
    "for i in range(1,6,1):\n",
    "    num=65\n",
    "    for j in range(1,i+1):\n",
    "        print(chr(num),end=\" \")\n",
    "        num+=1\n",
    "    print(\" \")"
   ]
  },
  {
   "cell_type": "code",
   "execution_count": 752,
   "id": "535afdad-ffff-4af0-a5c1-552c7ff2d88c",
   "metadata": {},
   "outputs": [
    {
     "name": "stdout",
     "output_type": "stream",
     "text": [
      "A  \n",
      "B B  \n",
      "C C C  \n",
      "D D D D  \n",
      "E E E E E  \n"
     ]
    }
   ],
   "source": [
    "num=65\n",
    "for i in range(1,6):\n",
    "    for j in range(1,i+1):\n",
    "        print(chr(num),end=\" \")\n",
    "    num+=1\n",
    "    print(\" \")"
   ]
  },
  {
   "cell_type": "code",
   "execution_count": 11,
   "id": "124a36e7-59de-4dd2-be35-7ae794a8ef5e",
   "metadata": {},
   "outputs": [
    {
     "name": "stdout",
     "output_type": "stream",
     "text": [
      "E \n",
      "D E \n",
      "C D E \n",
      "B C D E \n",
      "A B C D E \n"
     ]
    }
   ],
   "source": [
    "num = 65 \n",
    "for i in range(5, 0, -1):\n",
    "    for j in range(i, 6):\n",
    "        print(chr(j+64), end=\" \")  \n",
    "        num+=1\n",
    "    print()"
   ]
  },
  {
   "cell_type": "code",
   "execution_count": 837,
   "id": "39821a75-e616-48a6-bc09-f58d40fd1f40",
   "metadata": {},
   "outputs": [
    {
     "name": "stdout",
     "output_type": "stream",
     "text": [
      "    * \n",
      "   ** \n",
      "  *** \n",
      " **** \n",
      "***** \n"
     ]
    }
   ],
   "source": [
    "for i in range(1,6):\n",
    "    for j in range(i,5):\n",
    "        print(\" \",end=\"\")\n",
    "    for k in range(1,i+1):\n",
    "        print(\"*\",end=\"\")\n",
    "    print(\" \")"
   ]
  },
  {
   "cell_type": "code",
   "execution_count": 774,
   "id": "bcb57441-b1c2-4a68-b1fe-716b91b46682",
   "metadata": {},
   "outputs": [
    {
     "name": "stdout",
     "output_type": "stream",
     "text": [
      "-----1 \n",
      "----12 \n",
      "---123 \n",
      "--1234 \n",
      "-12345 \n"
     ]
    }
   ],
   "source": [
    "for i in range(1,6):\n",
    "    for j in range(i,6):\n",
    "        print(\"-\",end=\"\")\n",
    "    for k in range(1,i+1):\n",
    "        print(k,end=\"\")\n",
    "    print(\" \")"
   ]
  },
  {
   "cell_type": "code",
   "execution_count": 776,
   "id": "fd83168f-1e54-4b92-a138-936d74f7aa44",
   "metadata": {},
   "outputs": [
    {
     "name": "stdout",
     "output_type": "stream",
     "text": [
      "1234 \n",
      "-123 \n",
      "--12 \n",
      "---1 \n",
      "---- \n"
     ]
    }
   ],
   "source": [
    "for i in range(1,6):\n",
    "    for j in range(1,i):\n",
    "        print(\"-\",end=\"\")\n",
    "    for k in range(1,n-i+1):\n",
    "        print(k,end=\"\")\n",
    "    print(\" \")"
   ]
  },
  {
   "cell_type": "code",
   "execution_count": 841,
   "id": "ac4e23f7-d6a9-46f0-82a5-5c1ab076c7e8",
   "metadata": {},
   "outputs": [
    {
     "name": "stdout",
     "output_type": "stream",
     "text": [
      "1 2 3 4 5 \n",
      "  1 2 3 4 \n",
      "    1 2 3 \n",
      "      1 2 \n",
      "        1 \n"
     ]
    }
   ],
   "source": [
    "\n",
    "for i in range(5,0,-1):\n",
    "    for j in range(i,5):\n",
    "        print(\" \", end=\" \")\n",
    "    for k in range(1,i+1):\n",
    "        print(k+1,end=\" \")        \n",
    "    print()"
   ]
  },
  {
   "cell_type": "code",
   "execution_count": 843,
   "id": "7236c49c-4346-467f-806c-bebab334e694",
   "metadata": {},
   "outputs": [
    {
     "name": "stdout",
     "output_type": "stream",
     "text": [
      "    * * * * \n",
      "   * * * * \n",
      "  * * * * \n",
      " * * * * \n"
     ]
    }
   ],
   "source": [
    "num=5\n",
    "for i in range(5,1,-1):\n",
    "    for j in range(1,i):\n",
    "        print(\"\",end=\" \")\n",
    "    for k in range(1,5):\n",
    "        print(\"*\",end=\" \")\n",
    "    print( )"
   ]
  },
  {
   "cell_type": "code",
   "execution_count": 823,
   "id": "4b841121-e198-48bd-a7a3-9181ab6eea95",
   "metadata": {},
   "outputs": [
    {
     "name": "stdout",
     "output_type": "stream",
     "text": [
      "    1 2 3 4 5 \n",
      "   1 2 3 4 5 \n",
      "  1 2 3 4 5 \n",
      " 1 2 3 4 5 \n"
     ]
    }
   ],
   "source": [
    "for i in range(5,1,-1):\n",
    "    for j in range(1,i):\n",
    "        print(\"\",end=\" \")\n",
    "    for k in range(1,6):\n",
    "        print(k,end=\" \")\n",
    "    print( )"
   ]
  },
  {
   "cell_type": "code",
   "execution_count": 829,
   "id": "d46c3d37-c128-4d8f-a839-5f6ec3b97907",
   "metadata": {},
   "outputs": [
    {
     "name": "stdout",
     "output_type": "stream",
     "text": [
      "    A B C D E \n",
      "   A B C D E \n",
      "  A B C D E \n",
      " A B C D E \n"
     ]
    }
   ],
   "source": [
    "for i in range(5,1,-1):\n",
    "    num=65\n",
    "    for j in range(1,i):\n",
    "        print(\"\",end=\" \")\n",
    "    for k in range(1,6):\n",
    "        print(chr(num),end=\" \")\n",
    "        num+=1\n",
    "    print( )"
   ]
  },
  {
   "cell_type": "code",
   "execution_count": 845,
   "id": "20ee4024-c326-4ae1-8103-63c18ea64c7e",
   "metadata": {},
   "outputs": [
    {
     "name": "stdout",
     "output_type": "stream",
     "text": [
      "1 2 3 4 5 \n",
      "  1 2 3 4 \n",
      "    1 2 3 \n",
      "      1 2 \n",
      "        1 \n"
     ]
    }
   ],
   "source": [
    "for i in range (5,0,-1):\n",
    "    for j in range (i,5):\n",
    "        print(\" \",end = \" \")\n",
    "\n",
    "    for k in range (1,i+1):\n",
    "        print(k,end= \" \")\n",
    "\n",
    "    print()"
   ]
  },
  {
   "cell_type": "code",
   "execution_count": null,
   "id": "f2edc55e-d2c2-4927-a5cf-136df3826281",
   "metadata": {},
   "outputs": [],
   "source": []
  }
 ],
 "metadata": {
  "kernelspec": {
   "display_name": "Python 3 (ipykernel)",
   "language": "python",
   "name": "python3"
  },
  "language_info": {
   "codemirror_mode": {
    "name": "ipython",
    "version": 3
   },
   "file_extension": ".py",
   "mimetype": "text/x-python",
   "name": "python",
   "nbconvert_exporter": "python",
   "pygments_lexer": "ipython3",
   "version": "3.12.3"
  }
 },
 "nbformat": 4,
 "nbformat_minor": 5
}
