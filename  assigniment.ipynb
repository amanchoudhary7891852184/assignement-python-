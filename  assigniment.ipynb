{
 "cells": [
  {
   "cell_type": "code",
   "execution_count": 1,
   "id": "68ab82ac-5973-45e5-bba1-867c6b0d897c",
   "metadata": {},
   "outputs": [],
   "source": [
    "## wap to commulative sum of 1 to 100"
   ]
  },
  {
   "cell_type": "code",
   "execution_count": 7,
   "id": "ba389d2a-c4c3-4e65-97f3-c09a945fd467",
   "metadata": {},
   "outputs": [
    {
     "name": "stdout",
     "output_type": "stream",
     "text": [
      "5050\n"
     ]
    }
   ],
   "source": [
    "s=0\n",
    "for i in range(1,101):\n",
    "    s+=i\n",
    "print(s)"
   ]
  },
  {
   "cell_type": "code",
   "execution_count": 30,
   "id": "54d38e74-0bef-4768-b7c3-9d89de1192da",
   "metadata": {},
   "outputs": [],
   "source": [
    "## wap to print factor "
   ]
  },
  {
   "cell_type": "code",
   "execution_count": 28,
   "id": "ab5effd6-e3f8-45b8-8090-3879c620685d",
   "metadata": {},
   "outputs": [
    {
     "name": "stdin",
     "output_type": "stream",
     "text": [
      "enter your number 8\n"
     ]
    },
    {
     "name": "stdout",
     "output_type": "stream",
     "text": [
      "1\n",
      "2\n",
      "4\n",
      "8\n"
     ]
    }
   ],
   "source": [
    "n=int(input(\"enter your number\"))\n",
    "for i  in range(1,n+1):\n",
    "    if(n%i==0):\n",
    "        print(i)"
   ]
  },
  {
   "cell_type": "code",
   "execution_count": 32,
   "id": "fe97104e-7ea7-4a92-9edb-05017710ba02",
   "metadata": {},
   "outputs": [],
   "source": [
    "## wap to take user input and if the no has more than 2 factor"
   ]
  },
  {
   "cell_type": "code",
   "execution_count": 76,
   "id": "1ad27c86-dab2-45a8-80df-cd3df7154e99",
   "metadata": {},
   "outputs": [
    {
     "name": "stdin",
     "output_type": "stream",
     "text": [
      "enter your number 7\n"
     ]
    },
    {
     "name": "stdout",
     "output_type": "stream",
     "text": [
      "one  2\n"
     ]
    }
   ],
   "source": [
    "n=int(input(\"enter your number\"))\n",
    "c=0\n",
    "for i  in range(1,n+1):\n",
    "    if(n%i==0):\n",
    "        c+=1\n",
    "if(c>2):\n",
    "    print(\"more than one factor\",c)\n",
    "else:\n",
    "    print(\"one \",c)"
   ]
  },
  {
   "cell_type": "code",
   "execution_count": 74,
   "id": "71c95304-0af9-45c5-ab98-dd5522149abd",
   "metadata": {},
   "outputs": [],
   "source": [
    "## find odd number from list "
   ]
  },
  {
   "cell_type": "code",
   "execution_count": 100,
   "id": "86441cdf-40fd-41b9-bd90-38d7bc74a364",
   "metadata": {},
   "outputs": [
    {
     "name": "stdout",
     "output_type": "stream",
     "text": [
      "[1, 3, 5, 7, 11, 13, 15, 17]\n"
     ]
    }
   ],
   "source": [
    "l1=[1,2,3,5,6,7]\n",
    "l2=[10,11,12,13,14,15,16,17]\n",
    "ls=[]\n",
    "for i in l1:\n",
    "    if(i%2!=0):\n",
    "        ls.append(i)\n",
    "for j in l2:\n",
    "    if(j%2!=0):\n",
    "        ls.append(j)\n",
    "print(ls)"
   ]
  },
  {
   "cell_type": "code",
   "execution_count": 66,
   "id": "05f2e073-4a82-42f0-b173-5ad9b82d148d",
   "metadata": {},
   "outputs": [],
   "source": [
    "## take a number and check number is palindrom or not"
   ]
  },
  {
   "cell_type": "code",
   "execution_count": 104,
   "id": "bfd9a06e-5e9c-493f-a852-eb62478d81f5",
   "metadata": {},
   "outputs": [
    {
     "name": "stdin",
     "output_type": "stream",
     "text": [
      "enter your number : 151\n"
     ]
    },
    {
     "name": "stdout",
     "output_type": "stream",
     "text": [
      "pal\n"
     ]
    }
   ],
   "source": [
    "n=int(input(\"enter your number :\"))\n",
    "rem =0\n",
    "t=n\n",
    "s=0\n",
    "while(n>0):\n",
    "    rem=n%10\n",
    "    s=s*10+rem\n",
    "    n=n//10\n",
    "if(s==t):\n",
    "    print(\"pal\")\n",
    "else:\n",
    "    print(\"not\")"
   ]
  },
  {
   "cell_type": "code",
   "execution_count": 106,
   "id": "307b9d43-e356-446c-ab03-186e939aeb77",
   "metadata": {},
   "outputs": [],
   "source": [
    "## wap to check the lcm of two number"
   ]
  },
  {
   "cell_type": "code",
   "execution_count": 118,
   "id": "ea68f58e-366f-41f5-9b8c-afce71dd0f92",
   "metadata": {},
   "outputs": [
    {
     "name": "stdin",
     "output_type": "stream",
     "text": [
      "Enter the first number:  12\n",
      "Enter the second number:  203\n"
     ]
    },
    {
     "name": "stdout",
     "output_type": "stream",
     "text": [
      "The L.C.M. is 2436\n"
     ]
    }
   ],
   "source": [
    "x = int(input(\"Enter the first number: \"))\n",
    "y = int(input(\"Enter the second number: \"))\n",
    "\n",
    "if x > y:\n",
    "    greater = x\n",
    "else:\n",
    "    greater = y\n",
    "while True:\n",
    "    if (greater % x == 0) and (greater % y == 0):\n",
    "        lcm = greater\n",
    "        break   \n",
    "    greater += 1  \n",
    "\n",
    "print(\"The L.C.M. is\", lcm)\n"
   ]
  },
  {
   "cell_type": "code",
   "execution_count": 147,
   "id": "02f2e39d-ea6f-4e81-ab74-39dd681ae76c",
   "metadata": {},
   "outputs": [],
   "source": [
    "## find the factorial of a number :"
   ]
  },
  {
   "cell_type": "code",
   "execution_count": 151,
   "id": "cdd96207-c245-4369-b53e-e343374d70f0",
   "metadata": {},
   "outputs": [
    {
     "name": "stdin",
     "output_type": "stream",
     "text": [
      "enter your value: 5\n"
     ]
    },
    {
     "name": "stdout",
     "output_type": "stream",
     "text": [
      "5\n",
      "10\n",
      "30\n",
      "120\n"
     ]
    }
   ],
   "source": [
    "f=int(input(\"enter your value:\"))\n",
    "for i in range(1,f):\n",
    "    f=f*i\n",
    "    print(f)"
   ]
  },
  {
   "cell_type": "markdown",
   "id": "71662429-defa-47fe-bae8-9b22646f4906",
   "metadata": {},
   "source": [
    " ## Q8.\n",
    "take a list containing all the number and do the following task\n",
    "- find the maximum value from list\n",
    "- find minimum value\n",
    "- try to arrange the list element in ascending order\n",
    "   [no use of sort(), reverse(), max(),min]\n",
    "- Find the second highest number from the list"
   ]
  },
  {
   "cell_type": "code",
   "execution_count": 91,
   "id": "90b4a5a0-3315-45b7-b393-3705e406c87c",
   "metadata": {},
   "outputs": [
    {
     "name": "stdout",
     "output_type": "stream",
     "text": [
      "max= 54\n",
      "min= -1\n",
      "ls= [-1, 0, 2, 8, 10, 20, 40, 54]\n",
      "40 second highest\n"
     ]
    }
   ],
   "source": [
    "ls=[10,20,8,2,40,0,-1,54]\n",
    "max=ls[0]\n",
    "min=ls[0]\n",
    "t=0\n",
    "for i in range(0,len(ls)): \n",
    "     if(max<ls[i]):\n",
    "         max=ls[i]\n",
    "     if (min>ls[i]):\n",
    "         min=ls[i]\n",
    "print(\"max=\",max)\n",
    "print(\"min=\",min)\n",
    "for i in range(0,len(ls)):\n",
    "    for j in range(i+1,len(ls)):\n",
    "       if(ls[i]>ls[j]):\n",
    "           t=ls[i]\n",
    "           ls[i]=ls[j]\n",
    "           ls[j]=t\n",
    "print(\"ls=\",ls)\n",
    "s=ls[-2]\n",
    "print(s,\"second highest\")\n",
    "            "
   ]
  },
  {
   "cell_type": "code",
   "execution_count": 109,
   "id": "18d4431e-2471-4d9a-8273-4979b8c39ccd",
   "metadata": {},
   "outputs": [
    {
     "name": "stdout",
     "output_type": "stream",
     "text": [
      "9\n"
     ]
    }
   ],
   "source": [
    "ls=[10,9,8,7,6]\n",
    "max=ls[0]\n",
    "smax=0\n",
    "for i in range(0,len(ls)):\n",
    "    if(ls[i]>max):\n",
    "        smax=max\n",
    "        max=ls[i]\n",
    "    elif(ls[i]>smax and ls[i]!=max):\n",
    "        smax=ls[i]\n",
    "        print(smax)\n",
    "        \n",
    "        "
   ]
  },
  {
   "cell_type": "code",
   "execution_count": null,
   "id": "149c3c1e-9ed4-48a5-b2ef-180da226127f",
   "metadata": {},
   "outputs": [],
   "source": []
  }
 ],
 "metadata": {
  "kernelspec": {
   "display_name": "Python 3 (ipykernel)",
   "language": "python",
   "name": "python3"
  },
  "language_info": {
   "codemirror_mode": {
    "name": "ipython",
    "version": 3
   },
   "file_extension": ".py",
   "mimetype": "text/x-python",
   "name": "python",
   "nbconvert_exporter": "python",
   "pygments_lexer": "ipython3",
   "version": "3.12.3"
  }
 },
 "nbformat": 4,
 "nbformat_minor": 5
}
