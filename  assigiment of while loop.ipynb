{
 "cells": [
  {
   "cell_type": "code",
   "execution_count": null,
   "id": "e44f55ef-8674-4e73-bc6d-d2b9f7578015",
   "metadata": {},
   "outputs": [],
   "source": [
    "1. Write a program to print all natural numbers from 1 to n. – using whileloop"
   ]
  },
  {
   "cell_type": "code",
   "execution_count": 17,
   "id": "b385c7dc-5d8c-40d6-9f46-d12971bf4798",
   "metadata": {},
   "outputs": [
    {
     "name": "stdin",
     "output_type": "stream",
     "text": [
      "enter your number: 10\n"
     ]
    },
    {
     "name": "stdout",
     "output_type": "stream",
     "text": [
      "1\n",
      "2\n",
      "3\n",
      "4\n",
      "5\n",
      "6\n",
      "7\n",
      "8\n",
      "9\n",
      "10\n"
     ]
    }
   ],
   "source": [
    "n=int(input(\"enter your number:\"))\n",
    "i=1\n",
    "while(i<=n):\n",
    "    print(i)\n",
    "    i+=1"
   ]
  },
  {
   "cell_type": "code",
   "execution_count": null,
   "id": "877c4cc3-30ea-43a9-b1a5-c1ab52ab55fd",
   "metadata": {},
   "outputs": [],
   "source": [
    "Write a program to print all natural numbers in reverse (from n to 1). –using while loop"
   ]
  },
  {
   "cell_type": "code",
   "execution_count": 28,
   "id": "3be7299d-8b17-4695-afd7-3083f0254f5c",
   "metadata": {},
   "outputs": [
    {
     "name": "stdin",
     "output_type": "stream",
     "text": [
      "Enter your number:  10\n"
     ]
    },
    {
     "name": "stdout",
     "output_type": "stream",
     "text": [
      "10\n",
      "9\n",
      "8\n",
      "7\n",
      "6\n",
      "5\n",
      "4\n",
      "3\n",
      "2\n",
      "1\n"
     ]
    }
   ],
   "source": [
    "n = int(input(\"Enter your number: \"))\n",
    "i = n\n",
    "while i >= 1:  \n",
    "    print(i)\n",
    "    i -= 1\n"
   ]
  },
  {
   "cell_type": "code",
   "execution_count": null,
   "id": "f0af4f3d-5b51-4615-ad2c-2d9586286972",
   "metadata": {},
   "outputs": [],
   "source": [
    "Write a program to print all alphabets from a to z. – using while loop"
   ]
  },
  {
   "cell_type": "code",
   "execution_count": 31,
   "id": "677c67d4-19d8-46fd-9c87-0047a5c63827",
   "metadata": {},
   "outputs": [
    {
     "name": "stdout",
     "output_type": "stream",
     "text": [
      "a b c d e f g h i j k l m n o p q r s t u v w x y z "
     ]
    }
   ],
   "source": [
    "ch = 'a'\n",
    "while ch <= 'z':\n",
    "    print(ch, end=\" \")\n",
    "    ch = chr(ord(ch) + 1)  \n"
   ]
  },
  {
   "cell_type": "code",
   "execution_count": null,
   "id": "f7e83135-723b-474d-b639-76e63ec3d9ae",
   "metadata": {},
   "outputs": [],
   "source": [
    "4. Write a program to print all even numbers between 1 to 100. – using\n",
    "while loop"
   ]
  },
  {
   "cell_type": "code",
   "execution_count": 69,
   "id": "a3a67237-7049-4409-a748-6ae0584cfc96",
   "metadata": {},
   "outputs": [
    {
     "name": "stdin",
     "output_type": "stream",
     "text": [
      "enter the value of n 100\n"
     ]
    },
    {
     "name": "stdout",
     "output_type": "stream",
     "text": [
      "odd 1even 2odd 3even 4odd 5even 6odd 7even 8odd 9even 10odd 11even 12odd 13even 14odd 15even 16odd 17even 18odd 19even 20odd 21even 22odd 23even 24odd 25even 26odd 27even 28odd 29even 30odd 31even 32odd 33even 34odd 35even 36odd 37even 38odd 39even 40odd 41even 42odd 43even 44odd 45even 46odd 47even 48odd 49even 50odd 51even 52odd 53even 54odd 55even 56odd 57even 58odd 59even 60odd 61even 62odd 63even 64odd 65even 66odd 67even 68odd 69even 70odd 71even 72odd 73even 74odd 75even 76odd 77even 78odd 79even 80odd 81even 82odd 83even 84odd 85even 86odd 87even 88odd 89even 90odd 91even 92odd 93even 94odd 95even 96odd 97even 98odd 99even 100even 101odd 101"
     ]
    }
   ],
   "source": [
    "n=int(input(\"enter the value of n\"))\n",
    "i=1\n",
    "while(i<=n):\n",
    "    if(i%2==0):\n",
    "        print('even',i,end=\"\")\n",
    "    elif(i%2!=0):\n",
    "        print(\"odd\",i,end=\"\")\n",
    "    i+=1\n",
    "print(\"even\",i,end=\"\")\n",
    "print(\"odd\",i,end=\"\")"
   ]
  },
  {
   "cell_type": "code",
   "execution_count": null,
   "id": "55a11d31-535d-48f3-8b41-8f57a56ae1ed",
   "metadata": {
    "scrolled": true
   },
   "outputs": [],
   "source": [
    " Write a program to find the sum of all odd numbers between 1 to n."
   ]
  },
  {
   "cell_type": "code",
   "execution_count": 1,
   "id": "6168f206-b7af-4104-b332-aa5904014bae",
   "metadata": {},
   "outputs": [
    {
     "name": "stdin",
     "output_type": "stream",
     "text": [
      "enter the value of n 10\n"
     ]
    },
    {
     "name": "stdout",
     "output_type": "stream",
     "text": [
      "odd 1odd 3odd 5odd 7odd 9sum of all odd numbers 25\n"
     ]
    }
   ],
   "source": [
    "n=int(input(\"enter the value of n\"))\n",
    "i=1\n",
    "s=0\n",
    "while(i<=n):\n",
    "    if(i%2!=0):\n",
    "        s=s+i\n",
    "        print('odd',i,end=\"\")\n",
    "    i+=1\n",
    "print(\"sum of all odd numbers\",s)"
   ]
  },
  {
   "cell_type": "code",
   "execution_count": null,
   "id": "0d813db9-48ff-4244-9d56-c410eeaf8cdc",
   "metadata": {},
   "outputs": [],
   "source": [
    "Write a program to count the number of digits in a number."
   ]
  },
  {
   "cell_type": "code",
   "execution_count": 11,
   "id": "b54d7566-3e04-438c-91e1-8189b4a6b8d0",
   "metadata": {},
   "outputs": [
    {
     "name": "stdin",
     "output_type": "stream",
     "text": [
      "enter the value of n: 123\n"
     ]
    },
    {
     "name": "stdout",
     "output_type": "stream",
     "text": [
      "3 value count of number :\n"
     ]
    }
   ],
   "source": [
    "n=int(input(\"enter the value of n:\"))\n",
    "i=0\n",
    "c=1\n",
    "while(i<n):\n",
    "    c = c + 1\n",
    "    n=n//10\n",
    "    i+=1\n",
    "print(c,\"value count of number :\")\n"
   ]
  },
  {
   "cell_type": "code",
   "execution_count": null,
   "id": "cc88f4d3-d3d6-4ceb-83a9-2be4bae9b32e",
   "metadata": {},
   "outputs": [],
   "source": [
    "Write a program to calculate the sum of digits of a number."
   ]
  },
  {
   "cell_type": "code",
   "execution_count": 162,
   "id": "b4d598ea-89fc-4c7c-8aa5-d5c14769ddd3",
   "metadata": {},
   "outputs": [
    {
     "name": "stdin",
     "output_type": "stream",
     "text": [
      "enter the value of n: 1234\n"
     ]
    },
    {
     "name": "stdout",
     "output_type": "stream",
     "text": [
      "10  sum of digit :\n"
     ]
    }
   ],
   "source": [
    "n=int(input(\"enter the value of n:\"))\n",
    "i=0\n",
    "s=0 \n",
    "while(i<n):\n",
    "    a= n % 10\n",
    "    s=a+s\n",
    "    n=n//10\n",
    "print(s,\" sum of digit :\")"
   ]
  },
  {
   "cell_type": "code",
   "execution_count": null,
   "id": "4543132d-60c1-41aa-aea7-be436a768da6",
   "metadata": {},
   "outputs": [],
   "source": []
  },
  {
   "cell_type": "code",
   "execution_count": null,
   "id": "f16a1794-66d5-4035-a9e2-76386284f1ac",
   "metadata": {},
   "outputs": [],
   "source": [
    "8. Write a program to find the first and last digit of a number."
   ]
  },
  {
   "cell_type": "code",
   "execution_count": 38,
   "id": "da9b1f97-83e4-43c6-a84f-4888135e3deb",
   "metadata": {},
   "outputs": [
    {
     "name": "stdin",
     "output_type": "stream",
     "text": [
      "enter your number : 145687\n"
     ]
    },
    {
     "name": "stdout",
     "output_type": "stream",
     "text": [
      "1\n",
      "7\n"
     ]
    }
   ],
   "source": [
    "n=int(input(\"enter your number :\"))\n",
    "i=0\n",
    "last=n%10\n",
    "first=0\n",
    "while(i<n):\n",
    "    first=n%10\n",
    "    n=n//10\n",
    "print(first)\n",
    "print(last)"
   ]
  },
  {
   "cell_type": "code",
   "execution_count": null,
   "id": "ac59f555-1f3c-4851-a75c-c9a7f398546c",
   "metadata": {},
   "outputs": [],
   "source": [
    "Write a program to find the sum of first and last digit of a number."
   ]
  },
  {
   "cell_type": "code",
   "execution_count": 49,
   "id": "66aa4790-9663-4a3b-b604-a8511ecf572b",
   "metadata": {},
   "outputs": [
    {
     "name": "stdin",
     "output_type": "stream",
     "text": [
      "enter your number : 1234\n"
     ]
    },
    {
     "name": "stdout",
     "output_type": "stream",
     "text": [
      "1\n",
      "4\n",
      "sum of first and last 5\n"
     ]
    }
   ],
   "source": [
    "n=int(input(\"enter your number :\"))\n",
    "i=0\n",
    "last=n%10\n",
    "frist=0\n",
    "while(i<n):\n",
    "    frist=n%10\n",
    "    n=n//10\n",
    "    sum=first+last\n",
    "    \n",
    "print(first)\n",
    "print(last)\n",
    "print(\"sum of first and last\",sum)"
   ]
  },
  {
   "cell_type": "code",
   "execution_count": null,
   "id": "f16128a1-5065-487c-b973-2b00007f3e22",
   "metadata": {},
   "outputs": [],
   "source": [
    "10.Write a program to enter a number and print its reverse."
   ]
  },
  {
   "cell_type": "code",
   "execution_count": 51,
   "id": "9cc5a2b4-5bf5-4d47-a8b2-dc2c4d8406bd",
   "metadata": {},
   "outputs": [
    {
     "name": "stdin",
     "output_type": "stream",
     "text": [
      "enter your number : 45665\n"
     ]
    },
    {
     "name": "stdout",
     "output_type": "stream",
     "text": [
      "56654\n"
     ]
    }
   ],
   "source": [
    "n=int(input(\"enter your number :\"))\n",
    "i=0\n",
    "rem=0\n",
    "sum=0\n",
    "while(i<n):\n",
    "    rem=n%10\n",
    "    sum=sum*10+rem\n",
    "    n=n//10\n",
    "print(sum)"
   ]
  },
  {
   "cell_type": "code",
   "execution_count": 3,
   "id": "bd5c433b-dde4-43c2-9d28-5e865bf5a01e",
   "metadata": {},
   "outputs": [
    {
     "name": "stdout",
     "output_type": "stream",
     "text": [
      "5\n",
      "9\n",
      "10\n"
     ]
    }
   ],
   "source": [
    "n=145\n",
    "rem=0\n",
    "sum=0\n",
    "while(n>0):\n",
    "    rem=n%10\n",
    "    sum+=rem\n",
    "    n=n//10\n",
    "    print(sum)"
   ]
  },
  {
   "cell_type": "code",
   "execution_count": null,
   "id": "acc7ede6-3f93-4195-857f-ed0f965b1cb3",
   "metadata": {},
   "outputs": [],
   "source": []
  }
 ],
 "metadata": {
  "kernelspec": {
   "display_name": "Python 3 (ipykernel)",
   "language": "python",
   "name": "python3"
  },
  "language_info": {
   "codemirror_mode": {
    "name": "ipython",
    "version": 3
   },
   "file_extension": ".py",
   "mimetype": "text/x-python",
   "name": "python",
   "nbconvert_exporter": "python",
   "pygments_lexer": "ipython3",
   "version": "3.12.3"
  }
 },
 "nbformat": 4,
 "nbformat_minor": 5
}
