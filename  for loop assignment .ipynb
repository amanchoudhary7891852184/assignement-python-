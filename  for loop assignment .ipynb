{
 "cells": [
  {
   "cell_type": "code",
   "execution_count": null,
   "id": "27e29867-5a5f-41a5-b9f1-6d05651966b2",
   "metadata": {},
   "outputs": [],
   "source": [
    "1. Write a program to print all natural numbers from 1 to n."
   ]
  },
  {
   "cell_type": "code",
   "execution_count": 1,
   "id": "84160b77-d405-4545-aeb3-8c0640b2de8d",
   "metadata": {},
   "outputs": [
    {
     "name": "stdin",
     "output_type": "stream",
     "text": [
      "enter your value: 10\n"
     ]
    },
    {
     "name": "stdout",
     "output_type": "stream",
     "text": [
      "1\n",
      "2\n",
      "3\n",
      "4\n",
      "5\n",
      "6\n",
      "7\n",
      "8\n",
      "9\n",
      "10\n"
     ]
    }
   ],
   "source": [
    "n=int(input(\"enter your value:\"))\n",
    "for i in range(1,n+1,1):\n",
    "    print(i)"
   ]
  },
  {
   "cell_type": "code",
   "execution_count": null,
   "id": "a5360cbb-2cfe-4d8e-8a0a-845e9163a227",
   "metadata": {},
   "outputs": [],
   "source": [
    "Write a program to print all natural numbers in reverse (from n to 1)."
   ]
  },
  {
   "cell_type": "code",
   "execution_count": 8,
   "id": "5afe04cc-fdc3-4cf9-ad1b-32bb2d63f2e6",
   "metadata": {},
   "outputs": [
    {
     "name": "stdin",
     "output_type": "stream",
     "text": [
      "enter your value: 10\n"
     ]
    },
    {
     "name": "stdout",
     "output_type": "stream",
     "text": [
      "10\n",
      "8\n",
      "6\n",
      "4\n",
      "2\n"
     ]
    }
   ],
   "source": [
    "n=int(input(\"enter your value:\"))\n",
    "for i in range(n,0,-1):\n",
    "    if (i%2==0):\n",
    "        print(i)"
   ]
  },
  {
   "cell_type": "code",
   "execution_count": null,
   "id": "9df83831-ab82-4771-ac86-a4862c7503ef",
   "metadata": {},
   "outputs": [],
   "source": [
    " Write a program to print all alphabets from a to z."
   ]
  },
  {
   "cell_type": "code",
   "execution_count": 16,
   "id": "3caf2bbd-2923-43ad-8d7c-f2d0ab30b583",
   "metadata": {},
   "outputs": [
    {
     "name": "stdout",
     "output_type": "stream",
     "text": [
      "a b c d e f g h i j k l m n o p q r s t u v w x y z "
     ]
    }
   ],
   "source": [
    "for i in range(ord('a'),ord('z')+1):\n",
    "    print(chr(i),end=\" \")"
   ]
  },
  {
   "cell_type": "code",
   "execution_count": null,
   "id": "6140be5a-2a0e-49ec-9e52-e8c8b0132b6b",
   "metadata": {},
   "outputs": [],
   "source": [
    " Write a program to print all even numbers between 1 to 100."
   ]
  },
  {
   "cell_type": "code",
   "execution_count": 3,
   "id": "55a6c49c-c538-47ea-b238-bead97b7425e",
   "metadata": {
    "scrolled": true
   },
   "outputs": [
    {
     "name": "stdout",
     "output_type": "stream",
     "text": [
      "even 2\n",
      "even 4\n",
      "even 6\n",
      "even 8\n",
      "even 10\n",
      "even 12\n",
      "even 14\n",
      "even 16\n",
      "even 18\n",
      "even 20\n",
      "even 22\n",
      "even 24\n",
      "even 26\n",
      "even 28\n",
      "even 30\n",
      "even 32\n",
      "even 34\n",
      "even 36\n",
      "even 38\n",
      "even 40\n",
      "even 42\n",
      "even 44\n",
      "even 46\n",
      "even 48\n",
      "even 50\n",
      "even 52\n",
      "even 54\n",
      "even 56\n",
      "even 58\n",
      "even 60\n",
      "even 62\n",
      "even 64\n",
      "even 66\n",
      "even 68\n",
      "even 70\n",
      "even 72\n",
      "even 74\n",
      "even 76\n",
      "even 78\n",
      "even 80\n",
      "even 82\n",
      "even 84\n",
      "even 86\n",
      "even 88\n",
      "even 90\n",
      "even 92\n",
      "even 94\n",
      "even 96\n",
      "even 98\n"
     ]
    }
   ],
   "source": [
    "for i in range(1,100,1):\n",
    "    if i%2==0:\n",
    "        print('even',i)\n",
    "    \n",
    "        "
   ]
  },
  {
   "cell_type": "code",
   "execution_count": null,
   "id": "04485fb0-7c51-4403-bb7d-87666d9c8d48",
   "metadata": {},
   "outputs": [],
   "source": [
    "Write a program to find the sum of all odd numbers between 1 to n."
   ]
  },
  {
   "cell_type": "code",
   "execution_count": 3,
   "id": "bac9be8e-f167-4f49-ae96-bbb77a6317ae",
   "metadata": {},
   "outputs": [
    {
     "name": "stdin",
     "output_type": "stream",
     "text": [
      "enter your number: 5\n"
     ]
    },
    {
     "name": "stdout",
     "output_type": "stream",
     "text": [
      "odd 4\n"
     ]
    }
   ],
   "source": [
    "n=int(input(\"enter your number:\"))\n",
    "s=0 \n",
    "for i in range(1,n,1):\n",
    "    if i%2==1:\n",
    "        s+=i\n",
    "print('odd',s)"
   ]
  },
  {
   "cell_type": "code",
   "execution_count": null,
   "id": "c3ed13a8-c4e4-4fd5-b722-ed090bb7559a",
   "metadata": {},
   "outputs": [],
   "source": [
    "Write a program to count the number of digits in a number."
   ]
  },
  {
   "cell_type": "code",
   "execution_count": 2,
   "id": "14381685-d8f8-46a6-885d-f08a6b0ffded",
   "metadata": {},
   "outputs": [
    {
     "name": "stdout",
     "output_type": "stream",
     "text": [
      "count of n number is  4\n"
     ]
    }
   ],
   "source": [
    "num=2324\n",
    "num=str(num)\n",
    "s=0\n",
    "for i in num:\n",
    "    s+=1\n",
    "print('count of n number is ',s)"
   ]
  },
  {
   "cell_type": "code",
   "execution_count": null,
   "id": "6db74d3f-90fd-44c4-92a7-7180f5dbaa45",
   "metadata": {},
   "outputs": [],
   "source": [
    "Write a program to calculate the sum of digits of a number."
   ]
  },
  {
   "cell_type": "code",
   "execution_count": 1,
   "id": "cae3aed1-a414-4c1b-bfba-171f24bc9031",
   "metadata": {},
   "outputs": [
    {
     "name": "stdin",
     "output_type": "stream",
     "text": [
      "enter your number 1234\n"
     ]
    },
    {
     "name": "stdout",
     "output_type": "stream",
     "text": [
      "10\n"
     ]
    }
   ],
   "source": [
    "num=(input(\"enter your number\"))\n",
    "s=0\n",
    "for i in num:\n",
    "    s+=int(i)\n",
    "print(s)"
   ]
  },
  {
   "cell_type": "code",
   "execution_count": null,
   "id": "d65ee6c2-3458-4c21-8b28-77cb082f9027",
   "metadata": {},
   "outputs": [],
   "source": [
    "Write a program to find the first and last digit of a number."
   ]
  },
  {
   "cell_type": "code",
   "execution_count": 12,
   "id": "86963012-cbf4-46c3-adef-d171abff94f6",
   "metadata": {},
   "outputs": [
    {
     "name": "stdin",
     "output_type": "stream",
     "text": [
      "enter your number : 1234\n"
     ]
    },
    {
     "name": "stdout",
     "output_type": "stream",
     "text": [
      "first value :1 and last value4\n"
     ]
    }
   ],
   "source": [
    "n=int(input(\"enter your number :\"))\n",
    "rem=0\n",
    "last=n%10\n",
    "for i in range(n,0,-1):\n",
    "    if(i==n):\n",
    "        rem=n%10\n",
    "        n=n//10\n",
    "print(f\"first value :{rem} and last value{last}\")"
   ]
  },
  {
   "cell_type": "code",
   "execution_count": null,
   "id": "8f999f3b-e4ff-43bc-ad35-82df33be22bd",
   "metadata": {},
   "outputs": [],
   "source": [
    "Write a program to find the sum of first and last digit of a number."
   ]
  },
  {
   "cell_type": "code",
   "execution_count": null,
   "id": "694c08b8-eb1b-4126-abfb-21fe8c7b52b4",
   "metadata": {},
   "outputs": [],
   "source": []
  },
  {
   "cell_type": "code",
   "execution_count": 13,
   "id": "a0bb5e33-6dee-4f42-9418-1838d185489c",
   "metadata": {},
   "outputs": [
    {
     "name": "stdin",
     "output_type": "stream",
     "text": [
      "enter your number : 465\n"
     ]
    },
    {
     "name": "stdout",
     "output_type": "stream",
     "text": [
      "first value :4 and last value5\n",
      "9\n"
     ]
    }
   ],
   "source": [
    "n=int(input(\"enter your number :\"))\n",
    "first=0\n",
    "last=n%10\n",
    "for i in range(n,0,-1):\n",
    "    if(i==n):\n",
    "        first=n%10\n",
    "        n=n//10\n",
    "        sum=first+last\n",
    "print(f\"first value :{first} and last value{last}\")\n",
    "print(sum)"
   ]
  },
  {
   "cell_type": "code",
   "execution_count": null,
   "id": "6e03adf5-7efc-4e86-99f2-c37cc1798b7d",
   "metadata": {},
   "outputs": [],
   "source": [
    "10.Write a program to enter a number and print its reverse."
   ]
  },
  {
   "cell_type": "code",
   "execution_count": 1,
   "id": "93ca7abd-a59f-4d63-8831-4699117ef85e",
   "metadata": {},
   "outputs": [
    {
     "name": "stdin",
     "output_type": "stream",
     "text": [
      "enter your number : 123\n"
     ]
    },
    {
     "name": "stdout",
     "output_type": "stream",
     "text": [
      "321\n"
     ]
    }
   ],
   "source": [
    "n=int(input(\"enter your number :\"))\n",
    "sum=0\n",
    "rem=0\n",
    "for i in range(n,0,-1):\n",
    "    if(i==n):\n",
    "        rem=n%10\n",
    "        sum=sum*10+rem\n",
    "        n=n//10\n",
    "print(sum)"
   ]
  },
  {
   "cell_type": "code",
   "execution_count": null,
   "id": "6d97020c-6c37-40b2-a951-b6ce56595463",
   "metadata": {},
   "outputs": [],
   "source": [
    " "
   ]
  },
  {
   "cell_type": "code",
   "execution_count": 13,
   "id": "db780c64-8ad2-4ac1-af1c-77a601d84248",
   "metadata": {},
   "outputs": [
    {
     "name": "stdout",
     "output_type": "stream",
     "text": [
      "count of n number is  8\n"
     ]
    }
   ],
   "source": [
    "num=12345648\n",
    "n=str(num)\n",
    "s=0\n",
    "for i in n:\n",
    "    s+=1\n",
    "print('count of n number is ',s)"
   ]
  },
  {
   "cell_type": "code",
   "execution_count": 17,
   "id": "cacd8c8c-2d83-4c53-88f3-e0ad4ad4378b",
   "metadata": {},
   "outputs": [
    {
     "ename": "TypeError",
     "evalue": "not all arguments converted during string formatting",
     "output_type": "error",
     "traceback": [
      "\u001b[1;31m---------------------------------------------------------------------------\u001b[0m",
      "\u001b[1;31mTypeError\u001b[0m                                 Traceback (most recent call last)",
      "Cell \u001b[1;32mIn[17], line 6\u001b[0m\n\u001b[0;32m      4\u001b[0m s\u001b[38;5;241m=\u001b[39m\u001b[38;5;241m0\u001b[39m\n\u001b[0;32m      5\u001b[0m \u001b[38;5;28;01mfor\u001b[39;00m i \u001b[38;5;129;01min\u001b[39;00m n:\n\u001b[1;32m----> 6\u001b[0m     rem\u001b[38;5;241m=\u001b[39mn\u001b[38;5;241m%\u001b[39m\u001b[38;5;241m10\u001b[39m\n\u001b[0;32m      7\u001b[0m     t\u001b[38;5;241m=\u001b[39mrem\u001b[38;5;241m*\u001b[39m\u001b[38;5;241m10\u001b[39m\u001b[38;5;241m+\u001b[39ms\n\u001b[0;32m      8\u001b[0m     \u001b[38;5;28;01mif\u001b[39;00m (total\u001b[38;5;241m==\u001b[39mt):\n",
      "\u001b[1;31mTypeError\u001b[0m: not all arguments converted during string formatting"
     ]
    }
   ],
   "source": [
    "num=151\n",
    "total=num\n",
    "rem=0\n",
    "s=0\n",
    "for i in n:\n",
    "    rem=n%10\n",
    "    t=rem*10+s\n",
    "    if (total==t):\n",
    "        print('count of n number is ',s)\n",
    "    else:\n",
    "        print(\"error\")"
   ]
  },
  {
   "cell_type": "code",
   "execution_count": null,
   "id": "8eae5445-d819-426e-9ad3-bc5ffc8af2d8",
   "metadata": {},
   "outputs": [],
   "source": []
  }
 ],
 "metadata": {
  "kernelspec": {
   "display_name": "Python 3 (ipykernel)",
   "language": "python",
   "name": "python3"
  },
  "language_info": {
   "codemirror_mode": {
    "name": "ipython",
    "version": 3
   },
   "file_extension": ".py",
   "mimetype": "text/x-python",
   "name": "python",
   "nbconvert_exporter": "python",
   "pygments_lexer": "ipython3",
   "version": "3.12.3"
  }
 },
 "nbformat": 4,
 "nbformat_minor": 5
}
