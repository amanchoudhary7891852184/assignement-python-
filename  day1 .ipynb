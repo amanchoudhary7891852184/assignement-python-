{
 "cells": [
  {
   "cell_type": "code",
   "execution_count": 6,
   "id": "ab7499ca-c4b0-4ff8-b3c0-8e2de0a0806c",
   "metadata": {},
   "outputs": [
    {
     "name": "stdout",
     "output_type": "stream",
     "text": [
      "maan\n"
     ]
    }
   ],
   "source": [
    "print(\"maan\")"
   ]
  },
  {
   "cell_type": "code",
   "execution_count": 8,
   "id": "80a2a747-d46b-44d6-b7a3-31cc3cbd5b79",
   "metadata": {},
   "outputs": [
    {
     "name": "stdout",
     "output_type": "stream",
     "text": [
      "10\n"
     ]
    }
   ],
   "source": [
    "x=10\n",
    "print(x)"
   ]
  },
  {
   "cell_type": "code",
   "execution_count": 13,
   "id": "f8be387d-aaf8-4f91-a146-c078d21ca290",
   "metadata": {},
   "outputs": [
    {
     "name": "stdout",
     "output_type": "stream",
     "text": [
      "<class 'int'>\n"
     ]
    }
   ],
   "source": [
    "print(type(x))"
   ]
  },
  {
   "cell_type": "code",
   "execution_count": 15,
   "id": "cb3a71ec-0d00-4fa7-b116-67db46d3f475",
   "metadata": {},
   "outputs": [
    {
     "name": "stdout",
     "output_type": "stream",
     "text": [
      "age is  10\n"
     ]
    }
   ],
   "source": [
    "x=10\n",
    "print(\"age is \",x)"
   ]
  },
  {
   "cell_type": "code",
   "execution_count": 20,
   "id": "4249891b-b7f8-4cf4-a1e9-80e9d20aa207",
   "metadata": {},
   "outputs": [
    {
     "name": "stdout",
     "output_type": "stream",
     "text": [
      "<class 'str'>\n"
     ]
    }
   ],
   "source": [
    "x=\"amasn\"\n",
    "print(type(x))"
   ]
  },
  {
   "cell_type": "code",
   "execution_count": null,
   "id": "76194cf3-4d41-4b76-a939-ce2096d8679b",
   "metadata": {},
   "outputs": [],
   "source": []
  },
  {
   "cell_type": "code",
   "execution_count": 26,
   "id": "7fa432f6-f814-482f-8198-6d196bba7f55",
   "metadata": {
    "jp-MarkdownHeadingCollapsed": true
   },
   "outputs": [],
   "source": [
    "## commient is use for documentation :"
   ]
  },
  {
   "cell_type": "code",
   "execution_count": null,
   "id": "a3fda4ae-8aed-425c-9201-fc63c3dc53ab",
   "metadata": {},
   "outputs": [],
   "source": []
  },
  {
   "cell_type": "code",
   "execution_count": 37,
   "id": "2e5e1e86-be5b-4285-8e87-7b89782a3d27",
   "metadata": {},
   "outputs": [
    {
     "name": "stdout",
     "output_type": "stream",
     "text": [
      "ian\n"
     ]
    }
   ],
   "source": [
    " '''\n",
    " ainaoia\n",
    " '''\n",
    "print(\"ian\")"
   ]
  },
  {
   "cell_type": "code",
   "execution_count": 51,
   "id": "f63059b9-2e10-4d00-bb20-967b53902e41",
   "metadata": {},
   "outputs": [],
   "source": [
    "add='''aroaojoaoaok\n",
    "jarbi''' ## multi line string:"
   ]
  },
  {
   "cell_type": "code",
   "execution_count": 53,
   "id": "2bb3487d-5c5e-4237-ba5b-68dd2071f23f",
   "metadata": {},
   "outputs": [
    {
     "name": "stdout",
     "output_type": "stream",
     "text": [
      "aroaojoaoaok\n",
      "jarbi\n"
     ]
    }
   ],
   "source": [
    "print(add)"
   ]
  },
  {
   "cell_type": "code",
   "execution_count": 59,
   "id": "808889c4-51b1-4c0f-ac80-7bed264349af",
   "metadata": {},
   "outputs": [
    {
     "name": "stdout",
     "output_type": "stream",
     "text": [
      "year is 204com is regex\n"
     ]
    }
   ],
   "source": [
    "## sting formating \n",
    "year = 204\n",
    "com=r\"regex\"\n",
    "print(f\"year is {year}com is {com}\")"
   ]
  },
  {
   "cell_type": "code",
   "execution_count": 65,
   "id": "c6476136-bb15-44fa-908b-e6bc702edba1",
   "metadata": {},
   "outputs": [
    {
     "name": "stdout",
     "output_type": "stream",
     "text": [
      "hey use aman\n",
      "hey use aman\n"
     ]
    }
   ],
   "source": [
    "use=\"aman\"\n",
    "msg=f\"hey use {use}\"\n",
    "print(msg)\n",
    "use =\"lias\"\n",
    "print(msg)"
   ]
  },
  {
   "cell_type": "code",
   "execution_count": 67,
   "id": "c9d5339c-642c-4488-b960-d85a0138516c",
   "metadata": {},
   "outputs": [
    {
     "data": {
      "text/plain": [
       "'yer2024'"
      ]
     },
     "execution_count": 67,
     "metadata": {},
     "output_type": "execute_result"
    }
   ],
   "source": [
    "\"yer{}\".format(2024)"
   ]
  },
  {
   "cell_type": "code",
   "execution_count": null,
   "id": "8ec9cc78-d0ac-46f0-8554-0b8618e040fa",
   "metadata": {},
   "outputs": [],
   "source": []
  },
  {
   "cell_type": "code",
   "execution_count": null,
   "id": "f9c119a0-d286-49ed-8e82-5a2b3951f9f8",
   "metadata": {},
   "outputs": [],
   "source": []
  }
 ],
 "metadata": {
  "kernelspec": {
   "display_name": "Python 3 (ipykernel)",
   "language": "python",
   "name": "python3"
  },
  "language_info": {
   "codemirror_mode": {
    "name": "ipython",
    "version": 3
   },
   "file_extension": ".py",
   "mimetype": "text/x-python",
   "name": "python",
   "nbconvert_exporter": "python",
   "pygments_lexer": "ipython3",
   "version": "3.12.3"
  }
 },
 "nbformat": 4,
 "nbformat_minor": 5
}
