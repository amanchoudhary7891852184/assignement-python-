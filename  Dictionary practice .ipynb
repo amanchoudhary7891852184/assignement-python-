{
 "cells": [
  {
   "cell_type": "markdown",
   "id": "f5662974-f8e1-4e78-9dd1-a50db519e09a",
   "metadata": {},
   "source": [
    "'''Q1\n",
    "l1=[10,20,300]\n",
    "l2=[40,50,60]\n",
    "{10:40,  20:50,  300:60}\n",
    "# note using zip and without zip"
   ]
  },
  {
   "cell_type": "code",
   "execution_count": 21,
   "id": "5642c3bf-ea01-487b-a9c7-b3b77ea66546",
   "metadata": {},
   "outputs": [
    {
     "name": "stdout",
     "output_type": "stream",
     "text": [
      "{10: 40, 20: 50, 30: 60}\n"
     ]
    }
   ],
   "source": [
    "## using zip function \n",
    "l1=[10,20,30]\n",
    "l2=[40,50,60]\n",
    "d={}\n",
    "d=dict(zip(l1,l2))\n",
    "print(d)"
   ]
  },
  {
   "cell_type": "code",
   "execution_count": 79,
   "id": "8d6acb13-96ff-4039-8819-d935253f0423",
   "metadata": {},
   "outputs": [
    {
     "name": "stdout",
     "output_type": "stream",
     "text": [
      "{10: 60, 20: 60, 30: 60}"
     ]
    }
   ],
   "source": [
    "l1=[10,20,30]\n",
    "l2=[40,50,60]\n",
    "d={}\n",
    "for i in range(0,len(l1)):\n",
    "    for j in range(len(l2)):\n",
    "        d[l1[i]]=l2[j]\n",
    "print(d,end=\"\")"
   ]
  },
  {
   "cell_type": "code",
   "execution_count": 81,
   "id": "85b93f2d-ab8a-4b9c-8600-33c27dfb2fee",
   "metadata": {},
   "outputs": [
    {
     "name": "stdout",
     "output_type": "stream",
     "text": [
      "{10: 40, 20: 50, 30: 60}"
     ]
    }
   ],
   "source": [
    "l1=[10,20,30]\n",
    "l2=[40,50,60]\n",
    "d={}\n",
    "for i in range(0,len(l1)):\n",
    "        d[l1[i]]=l2[i]\n",
    "print(d,end=\"\")"
   ]
  },
  {
   "cell_type": "code",
   "execution_count": null,
   "id": "ceb51cdc-2120-47e9-af15-a6d28edb86e3",
   "metadata": {},
   "outputs": [],
   "source": [
    "Q2 {name: marks .. . . . .  ======>} multiple elements\n",
    "now take a input from the user for score variable\n",
    "- print the key who have more value then the score variable\n"
   ]
  },
  {
   "cell_type": "code",
   "execution_count": 294,
   "id": "3fee895c-3e20-4022-86e4-4277b5578a45",
   "metadata": {},
   "outputs": [
    {
     "name": "stdin",
     "output_type": "stream",
     "text": [
      "enter your range: 60\n"
     ]
    }
   ],
   "source": [
    "d={\"aman\":10,\"gotya\":20,\"harsh\":30,\"bavan\":40}\n",
    "s=int(input(\"enter your range:\"))\n",
    "for i in d.items():\n",
    "    key=i[0]\n",
    "    value=i[1]\n",
    "    if(s<value):\n",
    "        print(key)\n",
    "else:\n",
    "    print(\"error\")"
   ]
  },
  {
   "cell_type": "code",
   "execution_count": null,
   "id": "d1d1c8d3-55ae-49da-9b04-af081e0f6f89",
   "metadata": {},
   "outputs": [],
   "source": [
    "3 {10:19,  11:20,  13:NONE}\n",
    "delete the key-value pair where the value is none\n"
   ]
  },
  {
   "cell_type": "code",
   "execution_count": 283,
   "id": "056dc75d-aa2d-4a25-8e82-4acd20e4fd31",
   "metadata": {},
   "outputs": [
    {
     "name": "stdout",
     "output_type": "stream",
     "text": [
      "{10: 19, 11: 20, 12: None, 13: None, 14: 20}\n"
     ]
    }
   ],
   "source": [
    "d={10:19,  11:20, 12:None,13:None,14:20}\n",
    "d1={}\n",
    "for i in d.items():\n",
    "    key=i[0]\n",
    "    value=i[1]\n",
    "    if  value != \"none\":\n",
    "        d1[key]=value\n",
    "print(d1)"
   ]
  },
  {
   "cell_type": "code",
   "execution_count": 217,
   "id": "cac9cf81-f3f2-4113-ae85-cc058020358a",
   "metadata": {},
   "outputs": [
    {
     "ename": "RuntimeError",
     "evalue": "dictionary changed size during iteration",
     "output_type": "error",
     "traceback": [
      "\u001b[1;31m---------------------------------------------------------------------------\u001b[0m",
      "\u001b[1;31mRuntimeError\u001b[0m                              Traceback (most recent call last)",
      "Cell \u001b[1;32mIn[217], line 2\u001b[0m\n\u001b[0;32m      1\u001b[0m d\u001b[38;5;241m=\u001b[39m{\u001b[38;5;241m10\u001b[39m:\u001b[38;5;241m19\u001b[39m,  \u001b[38;5;241m11\u001b[39m:\u001b[38;5;241m20\u001b[39m, \u001b[38;5;241m12\u001b[39m:\u001b[38;5;124m\"\u001b[39m\u001b[38;5;124mnone\u001b[39m\u001b[38;5;124m\"\u001b[39m,\u001b[38;5;241m13\u001b[39m:\u001b[38;5;124m\"\u001b[39m\u001b[38;5;124mnone\u001b[39m\u001b[38;5;124m\"\u001b[39m,\u001b[38;5;241m14\u001b[39m:\u001b[38;5;241m20\u001b[39m}\n\u001b[1;32m----> 2\u001b[0m \u001b[38;5;28;01mfor\u001b[39;00m i \u001b[38;5;129;01min\u001b[39;00m d\u001b[38;5;241m.\u001b[39mitems():\n\u001b[0;32m      3\u001b[0m     key\u001b[38;5;241m=\u001b[39mi[\u001b[38;5;241m0\u001b[39m]\n\u001b[0;32m      4\u001b[0m     value\u001b[38;5;241m=\u001b[39mi[\u001b[38;5;241m1\u001b[39m]\n",
      "\u001b[1;31mRuntimeError\u001b[0m: dictionary changed size during iteration"
     ]
    }
   ],
   "source": [
    "d={10:19,  11:20, 12:\"none\",13:\"none\",14:20}\n",
    "for i in d.items():\n",
    "    key=i[0]\n",
    "    value=i[1]\n",
    "    if  value == \"none\":\n",
    "            d.pop(key)\n",
    "print(d)"
   ]
  },
  {
   "cell_type": "code",
   "execution_count": null,
   "id": "e1074fb4-b233-4c02-add2-96acd8be3b5f",
   "metadata": {},
   "outputs": [],
   "source": [
    "Q4:   {\"x\":5, \"y\":7, \"z\":10}\n",
    "print new dictionary as square of each key {x:25, y:49,  z:100}\n"
   ]
  },
  {
   "cell_type": "code",
   "execution_count": 223,
   "id": "c794829b-85f2-4b2f-a5df-40ce4fd73131",
   "metadata": {},
   "outputs": [
    {
     "name": "stdout",
     "output_type": "stream",
     "text": [
      "{'x': 25, 'y': 49, 'z': 100}\n"
     ]
    }
   ],
   "source": [
    "d={\"x\":5, \"y\":7, \"z\":10}\n",
    "d1={}\n",
    "for i in d:\n",
    "    d1[i]=d[i]**2\n",
    "print(d1)"
   ]
  },
  {
   "cell_type": "code",
   "execution_count": null,
   "id": "87bc6894-1e10-40e8-92f9-adbe51185151",
   "metadata": {},
   "outputs": [],
   "source": [
    "Q5\n",
    "create a dictionary as cube of number from 1 to 5\n",
    "{1:1, 2:8, 3:27, 4:64, 5:125}\n",
    "Note use only thing we have learnt"
   ]
  },
  {
   "cell_type": "code",
   "execution_count": 227,
   "id": "d86efd29-4415-4a0b-b7c3-a0174ddce99d",
   "metadata": {},
   "outputs": [
    {
     "name": "stdout",
     "output_type": "stream",
     "text": [
      "{1: 1, 2: 8, 3: 27, 4: 64, 5: 125}\n"
     ]
    }
   ],
   "source": [
    "d={}\n",
    "for i in range(1,6):\n",
    "    d[i]=i**3\n",
    "print(d)"
   ]
  },
  {
   "cell_type": "code",
   "execution_count": null,
   "id": "f03b167e-20f8-483d-a026-35e505a3a201",
   "metadata": {},
   "outputs": [],
   "source": [
    "Q6 {\"x\":5, \"y\":7, \"z\":10}\n",
    "get the ans in new dictionary {\"average\":7.3 ,   \"max\":10}"
   ]
  },
  {
   "cell_type": "code",
   "execution_count": 1,
   "id": "978830c5-b870-4d24-8eee-89b44ea5c97a",
   "metadata": {},
   "outputs": [
    {
     "name": "stdout",
     "output_type": "stream",
     "text": [
      "{'max': 20}\n",
      "10.5\n"
     ]
    }
   ],
   "source": [
    "d = {\"x\":5,\"y\":7,\"z\":10,\"a\":20}\n",
    "dt = {}\n",
    "d=d.values()\n",
    "d=list(d)\n",
    "d\n",
    "max_values = d[0]\n",
    "t = 0\n",
    "for i in range (0,len(d)):\n",
    "    if (d[i] > max_values):\n",
    "        max_values = d[i]\n",
    "        dt.update({\"max\":max_values})\n",
    "print(dt)\n",
    "avg=sum(d)/len(d)\n",
    "print(avg)\n"
   ]
  },
  {
   "cell_type": "code",
   "execution_count": null,
   "id": "cee5737e-b65b-44dd-9088-02cd6d25fc8e",
   "metadata": {},
   "outputs": [],
   "source": []
  },
  {
   "cell_type": "code",
   "execution_count": null,
   "id": "fea6654e-6fe8-4bc5-95da-71ef1f18a27b",
   "metadata": {},
   "outputs": [],
   "source": []
  }
 ],
 "metadata": {
  "kernelspec": {
   "display_name": "Python 3 (ipykernel)",
   "language": "python",
   "name": "python3"
  },
  "language_info": {
   "codemirror_mode": {
    "name": "ipython",
    "version": 3
   },
   "file_extension": ".py",
   "mimetype": "text/x-python",
   "name": "python",
   "nbconvert_exporter": "python",
   "pygments_lexer": "ipython3",
   "version": "3.12.3"
  }
 },
 "nbformat": 4,
 "nbformat_minor": 5
}
